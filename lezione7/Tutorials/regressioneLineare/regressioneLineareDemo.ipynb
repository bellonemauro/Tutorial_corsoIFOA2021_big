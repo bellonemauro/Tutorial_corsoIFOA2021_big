{
 "cells": [
  {
   "cell_type": "code",
   "execution_count": 1,
   "metadata": {},
   "outputs": [
    {
     "name": "stdout",
     "output_type": "stream",
     "text": [
      "\n",
      "Esempio di regressione lineare \n",
      "\n"
     ]
    }
   ],
   "source": [
    "#  +---------------------------------------------------------------------------+\n",
    "#  |                                                                           |\n",
    "#  |  IFOA2021 - BIG DATA e Analisi dei Dati                                   |\n",
    "#  |  Tutorial : regessione lineare                                            |\n",
    "#  |                                                                           |\n",
    "#  |  Autore: Mauro Bellone                                                    |\n",
    "#  |  Released under BDS License                                               |\n",
    "#  +---------------------------------------------------------------------------+ \n",
    "\n",
    "\"\"\"\n",
    "Esempio di regressione lineare \n",
    "\"\"\"\n",
    "print(__doc__)"
   ]
  },
  {
   "cell_type": "code",
   "execution_count": 2,
   "metadata": {},
   "outputs": [],
   "source": [
    "# importo librerie standard, numpy per analisi matemtica e matplotlib per plottare i risultati\n",
    "import numpy as np\n",
    "import matplotlib.pyplot as plt\n",
    "\n",
    "# importo sklearn libreria con molti pacchetti di analisi statistica e modelli di apprendimento\n",
    "from sklearn.linear_model import LinearRegression"
   ]
  },
  {
   "cell_type": "code",
   "execution_count": 3,
   "metadata": {},
   "outputs": [
    {
     "name": "stdout",
     "output_type": "stream",
     "text": [
      "[[2015]\n",
      " [2016]\n",
      " [2017]\n",
      " [2018]\n",
      " [2019]\n",
      " [2020]]\n",
      "[5500 5600 5450 5650 5800 5750]\n"
     ]
    }
   ],
   "source": [
    "# genero dei vettori di esmpio che rappresentano il fatturato annuo\n",
    "anno = np.array([2015, 2016, 2017, 2018, 2019, 2020]).reshape((-1, 1))\n",
    "fatturato_mEuro = np.array([5500, 5600, 5450, 5650, 5800, 5750])\n",
    "\n",
    "# stampo a schermo i vettori per vedere il loro contenuto\n",
    "print(anno)\n",
    "print(fatturato_mEuro)"
   ]
  },
  {
   "cell_type": "code",
   "execution_count": 4,
   "metadata": {},
   "outputs": [
    {
     "data": {
      "text/plain": [
       "LinearRegression()"
      ]
     },
     "execution_count": 4,
     "metadata": {},
     "output_type": "execute_result"
    }
   ],
   "source": [
    "# genero il modello di regressione lineare\n",
    "modello = LinearRegression()\n",
    "modello.fit(anno, fatturato_mEuro)"
   ]
  },
  {
   "cell_type": "code",
   "execution_count": 5,
   "metadata": {},
   "outputs": [
    {
     "name": "stdout",
     "output_type": "stream",
     "text": [
      "\n",
      "Coefficiente R^2:  0.6403809523809582  \n",
      "\n"
     ]
    }
   ],
   "source": [
    "# in alternativa possiamo istanziare e fittare in una unica linea\n",
    "# modello = LinearRegression().fit(anno, fatturato_mEuro)\n",
    "\n",
    "# Calcolo il coefficiente R^2 per valutare l'attendibilità del mio modello\n",
    "#  𝑅^2≈1  Significa che le previsioni del modello sono attendibili\n",
    "#  𝑅^2≈0  Significa che le previsioni del modello NON sono attendibili\n",
    "R_quadro = modello.score(anno, fatturato_mEuro)\n",
    "print('\\nCoefficiente R^2: ', R_quadro, ' \\n')"
   ]
  },
  {
   "cell_type": "code",
   "execution_count": 6,
   "metadata": {},
   "outputs": [
    {
     "name": "stdout",
     "output_type": "stream",
     "text": [
      "Coefficiente angolare della retta di regressione: [58.57]\n",
      "Quota della retta di regressione: -112542.86 \n",
      "\n",
      "\n"
     ]
    }
   ],
   "source": [
    "# stampo i parametri della retta di regressione\n",
    "print('Coefficiente angolare della retta di regressione:', np.round(modello.coef_,2))\n",
    "print('Quota della retta di regressione:', np.round(modello.intercept_,2) , '\\n\\n')\n"
   ]
  },
  {
   "cell_type": "code",
   "execution_count": 7,
   "metadata": {},
   "outputs": [
    {
     "name": "stdout",
     "output_type": "stream",
     "text": [
      "Risposta predetta:\n",
      "[5478.6 5537.1 5595.7 5654.3 5712.9 5771.4]\n"
     ]
    }
   ],
   "source": [
    "y_pred = modello.predict(anno)\n",
    "print('Risposta predetta:', np.round(y_pred,1), sep='\\n')"
   ]
  },
  {
   "cell_type": "code",
   "execution_count": 9,
   "metadata": {},
   "outputs": [
    {
     "name": "stdout",
     "output_type": "stream",
     "text": [
      "\n",
      "Fatturato 2021-23  [5830.  5888.6 5947.1]\n"
     ]
    }
   ],
   "source": [
    "x_next = np.array([2021, 2022, 2023]).reshape((-1, 1))\n",
    "y_next = modello.predict(x_next)\n",
    "print(\"\\nFatturato 2021-23 \", np.round(y_next,1))"
   ]
  },
  {
   "cell_type": "code",
   "execution_count": 10,
   "metadata": {},
   "outputs": [
    {
     "data": {
      "image/png": "[encoded data removed]",
      "text/plain": [
       "<Figure size 432x288 with 1 Axes>"
      ]
     },
     "metadata": {
      "needs_background": "light"
     },
     "output_type": "display_data"
    }
   ],
   "source": [
    "# plot con il modello e i dati che sono stati usati per generarlo\n",
    "plt.plot(anno, y_pred, c='r', label='Modello')\n",
    "plt.scatter(anno, fatturato_mEuro, c='g', label='Data')\n",
    "plt.grid()\n",
    "plt.legend(loc='best')\n",
    "plt.xlabel('Anno')\n",
    "plt.ylabel('Fatturato in MEuro')\n",
    "plt.show()"
   ]
  },
  {
   "cell_type": "code",
   "execution_count": 11,
   "metadata": {},
   "outputs": [
    {
     "data": {
      "image/png": "[encoded data removed]",
      "text/plain": [
       "<Figure size 432x288 with 1 Axes>"
      ]
     },
     "metadata": {
      "needs_background": "light"
     },
     "output_type": "display_data"
    }
   ],
   "source": [
    "# plot con il modello, dati e previsioni\n",
    "plt.plot(anno, y_pred, c='r', label='Modello')\n",
    "plt.scatter(anno, fatturato_mEuro, c='g', label='Data')\n",
    "plt.scatter(x_next, y_next, c='b', label='Predizione')\n",
    "plt.grid()\n",
    "plt.legend(loc='best')\n",
    "plt.xlabel('Anno')\n",
    "plt.ylabel('Fatturato in MEuro')\n",
    "plt.show()"
   ]
  },
  {
   "cell_type": "code",
   "execution_count": null,
   "metadata": {},
   "outputs": [],
   "source": []
  }
 ],
 "metadata": {
  "kernelspec": {
   "display_name": "Python 3",
   "language": "python",
   "name": "python3"
  },
  "language_info": {
   "codemirror_mode": {
    "name": "ipython",
    "version": 3
   },
   "file_extension": ".py",
   "mimetype": "text/x-python",
   "name": "python",
   "nbconvert_exporter": "python",
   "pygments_lexer": "ipython3",
   "version": "3.7.1"
  }
 },
 "nbformat": 4,
 "nbformat_minor": 4
}
